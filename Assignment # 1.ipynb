{
 "cells": [
  {
   "cell_type": "markdown",
   "id": "4fd7d734",
   "metadata": {},
   "source": [
    "## Assignment # 1"
   ]
  },
  {
   "cell_type": "markdown",
   "id": "c9194a3f",
   "metadata": {},
   "source": [
    "### Q1: Write a Python program to print the following string in a specific format"
   ]
  },
  {
   "cell_type": "code",
   "execution_count": 42,
   "id": "2d085695",
   "metadata": {},
   "outputs": [
    {
     "name": "stdout",
     "output_type": "stream",
     "text": [
      "Twinkle, twinkle, little star,\n",
      "\tHow I wonder what you are!\n",
      "\t\tUp above the world so high,\n",
      "\t\tLike a diamond in the sky.\n",
      "Twinkle, twinkle, little star,\n",
      "\tHow I wonder what you are\n"
     ]
    }
   ],
   "source": [
    "print('Twinkle, twinkle, little star,\\n\\tHow I wonder what you are!\\n\\t\\tUp above the world so high,\\n\\t\\tLike a diamond in the sky.\\nTwinkle, twinkle, little star,\\n\\tHow I wonder what you are')"
   ]
  },
  {
   "cell_type": "markdown",
   "id": "0bc25ce7",
   "metadata": {},
   "source": [
    "### Q2: Write a Python program to get the Python version you are using"
   ]
  },
  {
   "cell_type": "code",
   "execution_count": 43,
   "id": "b2a1057b",
   "metadata": {},
   "outputs": [
    {
     "name": "stdout",
     "output_type": "stream",
     "text": [
      "3.6.8\n"
     ]
    }
   ],
   "source": [
    "from platform import python_version\n",
    "print(python_version())"
   ]
  },
  {
   "cell_type": "markdown",
   "id": "9c8564cf",
   "metadata": {},
   "source": [
    "### Q3: Write a Python program to display the current date and time"
   ]
  },
  {
   "cell_type": "code",
   "execution_count": 44,
   "id": "f6cccd77",
   "metadata": {},
   "outputs": [
    {
     "name": "stdout",
     "output_type": "stream",
     "text": [
      "date and time are : 2022-01-01 10:12:59\n"
     ]
    }
   ],
   "source": [
    "from datetime import datetime\n",
    "a = datetime.now()\n",
    "conversion = a.strftime('%Y-%m-%d %H:%M:%S')\n",
    "print('date and time are :', conversion)"
   ]
  },
  {
   "cell_type": "markdown",
   "id": "82e0dfe5",
   "metadata": {},
   "source": [
    "### Q4: Write a Python program which accepts the radius of a circle from the user and compute the area"
   ]
  },
  {
   "cell_type": "code",
   "execution_count": 54,
   "id": "0afd5b31",
   "metadata": {},
   "outputs": [
    {
     "name": "stdout",
     "output_type": "stream",
     "text": [
      "Enter the radius: 5\n",
      "78.53981633974483\n"
     ]
    }
   ],
   "source": [
    "from math import pi\n",
    "r = input('Enter the radius: ')\n",
    "r = float(r)\n",
    "\n",
    "# Area of Circle is  given by:\n",
    "area_of_circle = pi * r**2\n",
    "print(area_of_circle)"
   ]
  },
  {
   "cell_type": "markdown",
   "id": "eb148dde",
   "metadata": {},
   "source": [
    "### Q5: Write a Python program which accepts the user's first and last name and print them in reverse order with a space between them "
   ]
  },
  {
   "cell_type": "code",
   "execution_count": 48,
   "id": "bfe84468",
   "metadata": {},
   "outputs": [
    {
     "name": "stdout",
     "output_type": "stream",
     "text": [
      "Enter the first name: Mairaj\n",
      "Enter the last name: Saleem\n",
      "Saleem Mairaj\n"
     ]
    }
   ],
   "source": [
    "first = input('Enter the first name: ')\n",
    "last = input('Enter the last name: ')\n",
    "print(last, first , sep = ' ')"
   ]
  },
  {
   "cell_type": "markdown",
   "id": "0bc436dc",
   "metadata": {},
   "source": [
    "### Q6: Write a python program which takes two inputs from the user and print them addition"
   ]
  },
  {
   "cell_type": "code",
   "execution_count": 49,
   "id": "58ee278c",
   "metadata": {},
   "outputs": [
    {
     "name": "stdout",
     "output_type": "stream",
     "text": [
      "Enter first input: come\n",
      "Enter second input: here\n",
      "comehere\n"
     ]
    }
   ],
   "source": [
    "input1 = input('Enter first input: ')\n",
    "input2 = input('Enter second input: ')\n",
    "print(input1 + input2)"
   ]
  }
 ],
 "metadata": {
  "kernelspec": {
   "display_name": "Python 3",
   "language": "python",
   "name": "python3"
  },
  "language_info": {
   "codemirror_mode": {
    "name": "ipython",
    "version": 3
   },
   "file_extension": ".py",
   "mimetype": "text/x-python",
   "name": "python",
   "nbconvert_exporter": "python",
   "pygments_lexer": "ipython3",
   "version": "3.6.8"
  }
 },
 "nbformat": 4,
 "nbformat_minor": 5
}
